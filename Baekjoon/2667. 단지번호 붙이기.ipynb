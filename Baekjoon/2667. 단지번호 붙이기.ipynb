{
 "cells": [
  {
   "cell_type": "code",
   "execution_count": 10,
   "id": "753238a8-2ea7-441c-ab34-ee5490072790",
   "metadata": {},
   "outputs": [],
   "source": [
    "def dfs(y, x) :\n",
    "    global tmp\n",
    "        \n",
    "    if x < 0 or x >= size or y < 0 or y >= size :\n",
    "        return False\n",
    "    \n",
    "    if graph[x][y] == 1 :\n",
    "        graph[x][y] = 0\n",
    "        tmp += 1\n",
    "        \n",
    "        # 상하좌우 탐색\n",
    "        dfs(y-1, x)\n",
    "        dfs(y+1, x)\n",
    "        dfs(y, x-1)\n",
    "        dfs(y, x+1)\n",
    "        return True\n",
    "    return False"
   ]
  },
  {
   "cell_type": "code",
   "execution_count": 22,
   "id": "5aef8165-9104-41d1-8007-5f790fd54312",
   "metadata": {},
   "outputs": [
    {
     "name": "stdout",
     "output_type": "stream",
     "text": [
      "3\n",
      "7\n",
      "8\n",
      "9\n"
     ]
    }
   ],
   "source": [
    "import sys\n",
    "sys.setrecursionlimit(10**6)  # RecursionError 해결\n",
    "\n",
    "sys.stdin = open('2667. 단지번호붙이기 input.txt', 'rt')\n",
    "\n",
    "size = int(sys.stdin.readline())\n",
    "graph = [list(map(int, sys.stdin.readline().strip('\\n'))) for _ in range(size)]\n",
    "\n",
    "n = 0\n",
    "tmp = 0\n",
    "cnt = []\n",
    "for i in range(size):\n",
    "    for j in range(size):\n",
    "        if dfs(i,j) == True:\n",
    "            n += 1\n",
    "            cnt.append(tmp)\n",
    "            tmp = 0\n",
    "\n",
    "cnt.sort()\n",
    "\n",
    "print(n)\n",
    "for i in range(len(cnt)) :    \n",
    "    print(cnt[i])\n",
    "\n"
   ]
  }
 ],
 "metadata": {
  "kernelspec": {
   "display_name": "Python 3 (ipykernel)",
   "language": "python",
   "name": "python3"
  },
  "language_info": {
   "codemirror_mode": {
    "name": "ipython",
    "version": 3
   },
   "file_extension": ".py",
   "mimetype": "text/x-python",
   "name": "python",
   "nbconvert_exporter": "python",
   "pygments_lexer": "ipython3",
   "version": "3.9.7"
  }
 },
 "nbformat": 4,
 "nbformat_minor": 5
}
