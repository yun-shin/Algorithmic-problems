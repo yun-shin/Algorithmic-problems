{
 "cells": [
  {
   "cell_type": "code",
   "execution_count": 1,
   "id": "a1e9b8a3-695e-47ed-b29c-3b5c2d9a6357",
   "metadata": {},
   "outputs": [],
   "source": [
    "def dfs(y,x):\n",
    "    if x < 0 or x >= w or y < 0 or y >= h:\n",
    "        return False\n",
    "\n",
    "    if graph[y][x] == 1:\n",
    "        #방문처리\n",
    "        graph[y][x] = 0\n",
    "        # 상하좌우 탐색\n",
    "        dfs(y,x-1)\n",
    "        dfs(y,x+1)\n",
    "        dfs(y-1,x)\n",
    "        dfs(y+1,x)\n",
    "        # 대각선 탐색\n",
    "        dfs(y-1,x-1)\n",
    "        dfs(y-1,x+1)\n",
    "        dfs(y+1,x-1)\n",
    "        dfs(y+1,x+1)\n",
    "        return True\n",
    "    return False"
   ]
  },
  {
   "cell_type": "code",
   "execution_count": 4,
   "id": "21226ba1-2794-4697-b1a4-d4315a0be529",
   "metadata": {},
   "outputs": [
    {
     "name": "stdout",
     "output_type": "stream",
     "text": [
      "0\n",
      "1\n",
      "1\n",
      "3\n",
      "1\n",
      "9\n"
     ]
    }
   ],
   "source": [
    "import sys\n",
    "sys.setrecursionlimit(10**6)  # RecursionError 해결\n",
    "\n",
    "sys.stdin = open('4963. 섬의 개수 input.txt', 'rt')\n",
    "\n",
    "while True :\n",
    "    w, h = map(int, sys.stdin.readline().split())\n",
    "    \n",
    "    if w == 0 and h == 0 :\n",
    "        break\n",
    "        \n",
    "    graph = [list(map(int, sys.stdin.readline().split())) for _ in range(h)]\n",
    "    result = 0\n",
    "    \n",
    "    for i in range(h):\n",
    "        for j in range(w):\n",
    "            if dfs(i,j) == True:\n",
    "                result += 1\n",
    "    print(result)\n",
    "\n"
   ]
  }
 ],
 "metadata": {
  "kernelspec": {
   "display_name": "Python 3 (ipykernel)",
   "language": "python",
   "name": "python3"
  },
  "language_info": {
   "codemirror_mode": {
    "name": "ipython",
    "version": 3
   },
   "file_extension": ".py",
   "mimetype": "text/x-python",
   "name": "python",
   "nbconvert_exporter": "python",
   "pygments_lexer": "ipython3",
   "version": "3.9.12"
  }
 },
 "nbformat": 4,
 "nbformat_minor": 5
}
