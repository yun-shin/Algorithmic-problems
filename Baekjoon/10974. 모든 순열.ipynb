{
 "cells": [
  {
   "cell_type": "code",
   "execution_count": 92,
   "id": "994693d1-9e21-4269-b24f-c11c9c35c82e",
   "metadata": {},
   "outputs": [],
   "source": [
    "def permutation(arr, s, r) :   \n",
    "    global result, cnt\n",
    "    if s == r :\n",
    "        result.append(arr[:])\n",
    "        cnt += 1\n",
    "        #print(*arr) \n",
    "    else :\n",
    "        for i in range(s, r+1) :\n",
    "            arr[s], arr[i] = arr[i], arr[s]\n",
    "            permutation(arr, s + 1, r);\n",
    "            arr[s], arr[i] = arr[i], arr[s]\n"
   ]
  },
  {
   "cell_type": "code",
   "execution_count": 91,
   "id": "4db74083-8261-4cd1-9899-57aa2be80ea1",
   "metadata": {},
   "outputs": [
    {
     "name": "stdout",
     "output_type": "stream",
     "text": [
      "1 2 3 4\n",
      "1 2 4 3\n",
      "1 3 2 4\n",
      "1 3 4 2\n",
      "1 4 2 3\n",
      "1 4 3 2\n",
      "2 1 3 4\n",
      "2 1 4 3\n",
      "2 3 1 4\n",
      "2 3 4 1\n",
      "2 4 1 3\n",
      "2 4 3 1\n",
      "3 1 2 4\n",
      "3 1 4 2\n",
      "3 2 1 4\n",
      "3 2 4 1\n",
      "3 4 1 2\n",
      "3 4 2 1\n",
      "4 1 2 3\n",
      "4 1 3 2\n",
      "4 2 1 3\n",
      "4 2 3 1\n",
      "4 3 1 2\n",
      "4 3 2 1\n"
     ]
    }
   ],
   "source": [
    "import sys\n",
    "\n",
    "sys.stdin = open('10974. 모든 순열 input.txt', 'rt')\n",
    "\n",
    "n = int(sys.stdin.readline())\n",
    "fact = [i for i in range(1, n + 1)]\n",
    "result = []\n",
    "cnt = 0\n",
    "\n",
    "permutation(fact, 0, n-1)\n",
    "\n",
    "for i in reversed(range(n)) :\n",
    "    result.sort(key = lambda x:x[i])\n",
    "\n",
    "for i in range(cnt) :\n",
    "    print(*result[i])"
   ]
  },
  {
   "cell_type": "code",
   "execution_count": 61,
   "id": "3b5515de-e78b-4593-926a-59e633102791",
   "metadata": {},
   "outputs": [
    {
     "name": "stdout",
     "output_type": "stream",
     "text": [
      "[7, 3, 4, 5]\n"
     ]
    }
   ],
   "source": [
    "arr = [7, 3, 5, 4]\n",
    "arr1 = arr[1:]\n",
    "arr2 = [arr[0]]\n",
    "\n",
    "arr1 = sorted(arr[1:])\n",
    "\n",
    "print(arr2+arr1)"
   ]
  }
 ],
 "metadata": {
  "kernelspec": {
   "display_name": "Python 3 (ipykernel)",
   "language": "python",
   "name": "python3"
  },
  "language_info": {
   "codemirror_mode": {
    "name": "ipython",
    "version": 3
   },
   "file_extension": ".py",
   "mimetype": "text/x-python",
   "name": "python",
   "nbconvert_exporter": "python",
   "pygments_lexer": "ipython3",
   "version": "3.9.13"
  }
 },
 "nbformat": 4,
 "nbformat_minor": 5
}
