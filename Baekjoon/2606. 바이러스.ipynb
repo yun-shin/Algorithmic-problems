{
 "cells": [
  {
   "cell_type": "code",
   "execution_count": 1,
   "id": "a04ecd48-6019-45c0-8559-30ac7eccb016",
   "metadata": {},
   "outputs": [],
   "source": [
    "def dfs_recursive(graph, start) :  \n",
    "    if start > computer or start > 100 :    # 인덱스 에러 방지\n",
    "        return False\n",
    "    \n",
    "    global cnt                             # 감염된 컴 갯수\n",
    "    visited[start] = 1                     # 방문 시  1\n",
    "    for node in graph[start]:      \n",
    "        if visited[node] == 0 :            # 방분 안했으면\n",
    "            dfs_recursive(graph, node)     # 재귀 진행\n",
    "            cnt += 1                       # 미방문 지역임으로 +1\n",
    "    return cnt"
   ]
  },
  {
   "cell_type": "code",
   "execution_count": 23,
   "id": "ee23b3e4-ba93-4138-ab10-2c697302ab4f",
   "metadata": {},
   "outputs": [
    {
     "name": "stdout",
     "output_type": "stream",
     "text": [
      "[[], [2, 5], [1, 3, 5], [2], [7], [1, 2, 6], [5], [4]]\n",
      "4\n"
     ]
    }
   ],
   "source": [
    "import sys\n",
    "sys.setrecursionlimit(10**6)  # RecursionError 해결\n",
    "\n",
    "sys.stdin = open('2606. 바이러스 input.txt', 'rt')\n",
    "\n",
    "computer = int(sys.stdin.readline())  # 1번부터 시작\n",
    "pair = int(sys.stdin.readline())      # 컴퓨터 쌍\n",
    "graph = [[]*computer for _ in range(computer + 1)]    # 그래프 바로 그리기\n",
    "cnt = 0\n",
    "visited = [0] * (computer+1)                          # 방문 컴퓨터 갯수\n",
    "\n",
    "for _ in range(pair):\n",
    "    a,b = map(int, sys.stdin.readline().split())\n",
    "    graph[a].append(b)                                # 그래프를 양방향으로 바꿔줌\n",
    "    graph[b].append(a)\n",
    "    \n",
    "dfs_recursive(graph, 1) \n",
    "print(graph)\n",
    "print(cnt)"
   ]
  }
 ],
 "metadata": {
  "kernelspec": {
   "display_name": "Python 3 (ipykernel)",
   "language": "python",
   "name": "python3"
  },
  "language_info": {
   "codemirror_mode": {
    "name": "ipython",
    "version": 3
   },
   "file_extension": ".py",
   "mimetype": "text/x-python",
   "name": "python",
   "nbconvert_exporter": "python",
   "pygments_lexer": "ipython3",
   "version": "3.9.7"
  }
 },
 "nbformat": 4,
 "nbformat_minor": 5
}
