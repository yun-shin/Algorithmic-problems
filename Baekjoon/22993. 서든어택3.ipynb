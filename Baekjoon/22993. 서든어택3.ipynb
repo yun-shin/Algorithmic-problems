{
 "cells": [
  {
   "cell_type": "code",
   "execution_count": 11,
   "id": "ee828eca-98e1-431a-a060-e74771a5ace9",
   "metadata": {},
   "outputs": [
    {
     "name": "stdin",
     "output_type": "stream",
     "text": [
      " 5\n",
      " 23 546 23 5 1\n"
     ]
    },
    {
     "name": "stdout",
     "output_type": "stream",
     "text": [
      "No\n"
     ]
    }
   ],
   "source": [
    "n = int(input())\n",
    "fp = list(map(int, input().split()))\n",
    "\n",
    "hero = fp[0]\n",
    "fp = sorted(fp[1:])\n",
    "win = True\n",
    "\n",
    "for i in range(n - 1) :\n",
    "    if hero > fp[i] :\n",
    "        hero += fp[i]\n",
    "    else :\n",
    "        win = False\n",
    "        break\n",
    "        \n",
    "if win :\n",
    "    print(\"Yes\")\n",
    "else :\n",
    "    print(\"No\")\n",
    "    "
   ]
  }
 ],
 "metadata": {
  "kernelspec": {
   "display_name": "Python 3 (ipykernel)",
   "language": "python",
   "name": "python3"
  },
  "language_info": {
   "codemirror_mode": {
    "name": "ipython",
    "version": 3
   },
   "file_extension": ".py",
   "mimetype": "text/x-python",
   "name": "python",
   "nbconvert_exporter": "python",
   "pygments_lexer": "ipython3",
   "version": "3.9.12"
  }
 },
 "nbformat": 4,
 "nbformat_minor": 5
}
