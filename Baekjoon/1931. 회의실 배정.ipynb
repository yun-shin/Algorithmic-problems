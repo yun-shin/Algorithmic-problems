{
 "cells": [
  {
   "cell_type": "code",
   "execution_count": 4,
   "id": "dea4ddcf-88b0-4a48-81ff-d689e01a8e7d",
   "metadata": {},
   "outputs": [
    {
     "name": "stdin",
     "output_type": "stream",
     "text": [
      " 11\n",
      " 1 4\n",
      " 3 5\n",
      " 0 6\n",
      " 5 7\n",
      " 3 8\n",
      " 5 9\n",
      " 6 10\n",
      " 8 11\n",
      " 2 13\n",
      " 12 14\n",
      " 8 12\n"
     ]
    },
    {
     "name": "stdout",
     "output_type": "stream",
     "text": [
      "4\n"
     ]
    }
   ],
   "source": [
    "n = int(input())\n",
    "time = [list(map(int, input().split())) for _ in range(n)]\n",
    "\n",
    "time.sort(key = lambda x:x[0])     # 첫 번째 원소순으로 정렬\n",
    "time.sort(key = lambda x:x[1])     # 두 번째 원소순으로 정렬\n",
    "\n",
    "cnt = 1\n",
    "finish = time[0][1]                # 해당 회의 끝나는 시간\n",
    "\n",
    "for i in range(1, n) :\n",
    "    if time[i][0] >= finish :      # 해당 회의 시작시간이 전 회의 끝나는 시간보다 크거나 같을 때\n",
    "        cnt += 1                   # 회의 이제 하니까 +1\n",
    "        finish = time[i][1]        # 회의 끝나는 시간 업데이트\n",
    "        \n",
    "print(cnt)"
   ]
  },
  {
   "cell_type": "code",
   "execution_count": 7,
   "id": "4c06dac7-2b38-4531-bdfc-2c73b41f2862",
   "metadata": {},
   "outputs": [
    {
     "name": "stdout",
     "output_type": "stream",
     "text": [
      "4\n"
     ]
    }
   ],
   "source": [
    "import sys\n",
    "\n",
    "sys.stdin = open('1931. 회의실 배정 input.txt', 'rt')\n",
    "\n",
    "n = int(sys.stdin.readline())\n",
    "time = [list(map(int, sys.stdin.readline().split())) for _ in range(n)]\n",
    "\n",
    "time.sort(key=lambda x:x[0])\n",
    "time.sort(key=lambda x:x[1])\n",
    "\n",
    "cnt = 1\n",
    "finish = time[0][1]\n",
    "\n",
    "for i in range(n) :\n",
    "    if time[i][0] >= finish :\n",
    "        cnt += 1\n",
    "        finish = time[i][1]\n",
    "        \n",
    "print(cnt)"
   ]
  }
 ],
 "metadata": {
  "kernelspec": {
   "display_name": "Python 3 (ipykernel)",
   "language": "python",
   "name": "python3"
  },
  "language_info": {
   "codemirror_mode": {
    "name": "ipython",
    "version": 3
   },
   "file_extension": ".py",
   "mimetype": "text/x-python",
   "name": "python",
   "nbconvert_exporter": "python",
   "pygments_lexer": "ipython3",
   "version": "3.9.13"
  }
 },
 "nbformat": 4,
 "nbformat_minor": 5
}
