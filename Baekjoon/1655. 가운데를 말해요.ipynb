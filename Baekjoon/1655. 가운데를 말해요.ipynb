{
 "cells": [
  {
   "cell_type": "code",
   "execution_count": 14,
   "id": "673d528a-d59a-495b-851c-12177cf40edb",
   "metadata": {},
   "outputs": [
    {
     "name": "stdout",
     "output_type": "stream",
     "text": [
      "1\n",
      "1\n",
      "2\n",
      "2\n",
      "2\n",
      "2\n",
      "5\n"
     ]
    }
   ],
   "source": [
    "import sys\n",
    "\n",
    "sys.stdin = open('1655. 가운데를 말해요.txt', 'rt')\n",
    "\n",
    "N = int(sys.stdin.readline())\n",
    "num = []\n",
    "\n",
    "for i in range(N) :\n",
    "    num.append(int(sys.stdin.readline()))\n",
    "    midian = 0\n",
    "\n",
    "    num.sort()\n",
    "\n",
    "    if len(num) % 2 == 0 :\n",
    "        midian = len(num) // 2 - 1\n",
    "    else :\n",
    "        midian = len(num) // 2\n",
    "\n",
    "    print(num[midian])"
   ]
  },
  {
   "cell_type": "code",
   "execution_count": null,
   "id": "a00a3607-4a28-49ba-9979-832c260bdbaa",
   "metadata": {},
   "outputs": [],
   "source": [
    "N = int(input())\n",
    "num = []\n",
    "\n",
    "for i in range(N) :\n",
    "    num.append(int(input()))\n",
    "    midian = 0\n",
    "\n",
    "    num.sort()\n",
    "\n",
    "    if len(num) % 2 == 0 :\n",
    "        midian = len(num) // 2 - 1\n",
    "    else :\n",
    "        midian = len(num) // 2\n",
    "\n",
    "    print(num[midian])"
   ]
  }
 ],
 "metadata": {
  "kernelspec": {
   "display_name": "Python 3 (ipykernel)",
   "language": "python",
   "name": "python3"
  },
  "language_info": {
   "codemirror_mode": {
    "name": "ipython",
    "version": 3
   },
   "file_extension": ".py",
   "mimetype": "text/x-python",
   "name": "python",
   "nbconvert_exporter": "python",
   "pygments_lexer": "ipython3",
   "version": "3.9.7"
  }
 },
 "nbformat": 4,
 "nbformat_minor": 5
}
