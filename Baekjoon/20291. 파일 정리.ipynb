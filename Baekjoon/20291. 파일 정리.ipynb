{
 "cells": [
  {
   "cell_type": "code",
   "execution_count": 13,
   "id": "16c1970b-f1c2-424e-93fd-f31d424df196",
   "metadata": {},
   "outputs": [
    {
     "name": "stdin",
     "output_type": "stream",
     "text": [
      " 5\n",
      " asdf.asdf\n",
      " asdf.qwer\n",
      " asdf.asdf\n",
      " asdf.qwer\n",
      " asdf.q\n"
     ]
    },
    {
     "name": "stdout",
     "output_type": "stream",
     "text": [
      "asdf 2\n",
      "q 1\n",
      "qwer 2\n"
     ]
    }
   ],
   "source": [
    "fileNum = int(input())\n",
    "cnt = 0\n",
    "\n",
    "for i in range(fileNum) :\n",
    "    extension = list(map(str, input().split('.')))[1]\n",
    "\n",
    "extension = sorted(extension)\n",
    "compare = extension[0]\n",
    "#j = 0\n",
    "\n",
    "for i in extension :\n",
    "    if compare == i :\n",
    "        cnt += 1\n",
    "    else :\n",
    "        print(compare, cnt)\n",
    "        compare = i\n",
    "        cnt = 1\n",
    "print(compare, cnt)          # 막줄 출력"
   ]
  }
 ],
 "metadata": {
  "kernelspec": {
   "display_name": "Python 3 (ipykernel)",
   "language": "python",
   "name": "python3"
  },
  "language_info": {
   "codemirror_mode": {
    "name": "ipython",
    "version": 3
   },
   "file_extension": ".py",
   "mimetype": "text/x-python",
   "name": "python",
   "nbconvert_exporter": "python",
   "pygments_lexer": "ipython3",
   "version": "3.9.12"
  }
 },
 "nbformat": 4,
 "nbformat_minor": 5
}
