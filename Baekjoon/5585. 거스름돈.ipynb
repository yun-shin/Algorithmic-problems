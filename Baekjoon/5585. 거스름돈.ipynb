{
 "cells": [
  {
   "cell_type": "code",
   "execution_count": 10,
   "metadata": {},
   "outputs": [
    {
     "name": "stdout",
     "output_type": "stream",
     "text": [
      "499\n",
      "99\n",
      "49\n",
      "9\n",
      "4\n",
      "tlqkf 4\n",
      "[1, 4, 1, 4, 1, 4]\n",
      "15\n"
     ]
    }
   ],
   "source": [
    "price = int(input())                            # 카드 가격\n",
    "change = 1000 - price                           # 거스름돈\n",
    "coin = [0 for i in range(6)]                    # 동전의 종류\n",
    "coin_value = [500, 100, 50, 10, 5, 1]           # 동전의 가치\n",
    "\n",
    "for i in range(6) :                             # 동전 종류만큼 반복\n",
    "    if change % coin_value[i] > 0 :             # 큰수로 나눈 수의 나머지가 크면\n",
    "        coin[i] = change // coin_value[i]       # 해당 동전의 개수 저장\n",
    "        change -= coin_value[i] * coin[i]       # 저장한 동전 개수만큼 차감\n",
    "    else :\n",
    "        coin[i] = change // coin_value[i]       # 나머지가 0이면 반복 종료\n",
    "        break\n",
    "\n",
    "print(sum(coin))                                # 동전 개수의 합"
   ]
  }
 ],
 "metadata": {
  "interpreter": {
   "hash": "fb4569285eef3a3450cb62085a5b1e0da4bce0af555edc33dcf29baf3acc1368"
  },
  "kernelspec": {
   "display_name": "Python 3.10.4 64-bit",
   "language": "python",
   "name": "python3"
  },
  "language_info": {
   "codemirror_mode": {
    "name": "ipython",
    "version": 3
   },
   "file_extension": ".py",
   "mimetype": "text/x-python",
   "name": "python",
   "nbconvert_exporter": "python",
   "pygments_lexer": "ipython3",
   "version": "3.10.4"
  },
  "orig_nbformat": 4
 },
 "nbformat": 4,
 "nbformat_minor": 2
}
