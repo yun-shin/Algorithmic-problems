{
 "cells": [
  {
   "cell_type": "code",
   "execution_count": 26,
   "id": "a3618e30-067a-4b61-805f-65386faa1202",
   "metadata": {},
   "outputs": [],
   "source": [
    "def dfs(y, x) :\n",
    "    if x < 0 or x >= w or y < 0 or y >= h:\n",
    "        return False\n",
    "\n",
    "    if graph[y][x] == 1:\n",
    "        #방문처리\n",
    "        graph[y][x] = 0\n",
    "        # 상하좌우 탐색\n",
    "        dfs(y,x-1)\n",
    "        dfs(y,x+1)\n",
    "        dfs(y-1,x)\n",
    "        dfs(y+1,x)\n",
    "        return True\n",
    "    return False    "
   ]
  },
  {
   "cell_type": "code",
   "execution_count": 30,
   "id": "7d1c4dc3-1db9-4516-9545-494131c936c9",
   "metadata": {},
   "outputs": [
    {
     "name": "stdout",
     "output_type": "stream",
     "text": [
      "5\n",
      "1\n"
     ]
    }
   ],
   "source": [
    "import sys\n",
    "import numpy as np\n",
    "sys.setrecursionlimit(10**6)  # RecursionError 해결\n",
    "\n",
    "sys.stdin = open('1012. 유기농 배추 input.txt', 'rt')\n",
    "\n",
    "t = int(sys.stdin.readline())\n",
    "\n",
    "for t in range(1, t + 1) :\n",
    "    w, h, num = map(int, sys.stdin.readline().split())\n",
    "    path = [list(map(int, sys.stdin.readline().split())) for _ in range(num)]\n",
    "    graph = [[0 for _ in range(w)] for _ in range(h)]\n",
    "\n",
    "    for i in path :\n",
    "        graph[i[1]][i[0]] = 1\n",
    "\n",
    "    result = 0\n",
    "\n",
    "    for i in range(h):\n",
    "        for j in range(w):\n",
    "            if dfs(i,j) == True:\n",
    "                result += 1\n",
    "    print(result)    "
   ]
  }
 ],
 "metadata": {
  "kernelspec": {
   "display_name": "Python 3 (ipykernel)",
   "language": "python",
   "name": "python3"
  },
  "language_info": {
   "codemirror_mode": {
    "name": "ipython",
    "version": 3
   },
   "file_extension": ".py",
   "mimetype": "text/x-python",
   "name": "python",
   "nbconvert_exporter": "python",
   "pygments_lexer": "ipython3",
   "version": "3.9.7"
  }
 },
 "nbformat": 4,
 "nbformat_minor": 5
}
