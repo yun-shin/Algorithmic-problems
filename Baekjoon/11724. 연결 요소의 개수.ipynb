{
 "cells": [
  {
   "cell_type": "code",
   "execution_count": 1,
   "id": "d9244a51-4f3a-4b4f-8f47-f18cf94e0d8a",
   "metadata": {},
   "outputs": [],
   "source": [
    "def dfs(graph, start) :\n",
    "    visit[start] = 1                     # 방문 시  1\n",
    "    \n",
    "    for node in graph[start]:      \n",
    "        if visit[node] == 0 :            # 방문 안했으면\n",
    "            #print(\"재귀함\")\n",
    "            dfs(graph, node)     # 재귀 진행\n",
    "    return True"
   ]
  },
  {
   "cell_type": "code",
   "execution_count": 2,
   "id": "b3128437-4d1e-43fd-92b9-669de37dddec",
   "metadata": {},
   "outputs": [
    {
     "name": "stdout",
     "output_type": "stream",
     "text": [
      "재귀함\n",
      "재귀함\n",
      "재귀함\n",
      "재귀함\n",
      "재귀함\n",
      "3\n"
     ]
    }
   ],
   "source": [
    "import sys\n",
    "sys.setrecursionlimit(10**6)  # RecursionError 해결\n",
    "\n",
    "sys.stdin = open('11724. 연결 요소의 개수 input.txt', 'rt')\n",
    "\n",
    "node, link = map(int, sys.stdin.readline().split())\n",
    "graph = [[] for _ in range(node + 1)]\n",
    "visit = [0 for _ in range(node + 1)]\n",
    "cnt = 0\n",
    "\n",
    "for i in range(link) :\n",
    "    a, b = map(int, sys.stdin.readline().split())\n",
    "    graph[a].append(b)\n",
    "    graph[b].append(a)\n",
    "    graph[a].sort()\n",
    "    graph[b].sort()\n",
    "    \n",
    "for i in range(1, len(visit)) :     \n",
    "    if visit[i] == 0 :\n",
    "        cnt += 1\n",
    "        dfs(graph, i)\n",
    "    \n",
    "print(cnt)"
   ]
  }
 ],
 "metadata": {
  "kernelspec": {
   "display_name": "Python 3 (ipykernel)",
   "language": "python",
   "name": "python3"
  },
  "language_info": {
   "codemirror_mode": {
    "name": "ipython",
    "version": 3
   },
   "file_extension": ".py",
   "mimetype": "text/x-python",
   "name": "python",
   "nbconvert_exporter": "python",
   "pygments_lexer": "ipython3",
   "version": "3.9.12"
  }
 },
 "nbformat": 4,
 "nbformat_minor": 5
}
