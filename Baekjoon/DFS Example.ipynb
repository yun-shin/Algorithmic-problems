{
 "cells": [
  {
   "cell_type": "code",
   "execution_count": 3,
   "id": "0a050624-e40c-442e-8d5c-f9f02beb3cf3",
   "metadata": {},
   "outputs": [],
   "source": [
    "def dfs_recursive(graph, start, visited = [0]) :  \n",
    "    if start not in visited:\n",
    "        visited.append(start)\n",
    " \n",
    "    for node in graph[start]:\n",
    "        if node not in visited:\n",
    "            dfs_recursive(graph, node, visited)\n",
    "    return visited[1:]"
   ]
  },
  {
   "cell_type": "code",
   "execution_count": 4,
   "id": "67456c1d-bed0-42d6-830f-4c1790d65f5d",
   "metadata": {},
   "outputs": [
    {
     "name": "stdout",
     "output_type": "stream",
     "text": [
      "[[0], [2, 3, 4], [6], [5], [5], [0], [0]]\n"
     ]
    },
    {
     "data": {
      "text/plain": [
       "[1, 2, 6, 3, 5, 4]"
      ]
     },
     "execution_count": 4,
     "metadata": {},
     "output_type": "execute_result"
    }
   ],
   "source": [
    "import sys\n",
    "\n",
    "sys.stdin = open('DFS Example input.txt', 'rt')\n",
    "\n",
    "node = int(sys.stdin.readline())\n",
    "path = [list(map(int, sys.stdin.readline().split())) for _ in range(node)]\n",
    "graph = [[0] for _ in range(node + 1)]\n",
    "tmp = []\n",
    "lastnode = path[len(path) - 1][0]\n",
    "\n",
    "path.sort(key = lambda x:x[0])\n",
    "\n",
    "j = 1\n",
    "for i in range(len(path)) :\n",
    "    if path[i][0] != j :\n",
    "        graph[j] = tmp\n",
    "        j += 1\n",
    "        \n",
    "        tmp = []\n",
    "    tmp.append(path[i][1])\n",
    "graph[lastnode] = tmp\n",
    "    \n",
    "\n",
    "print(graph)\n",
    "\n",
    "dfs_recursive(graph, 1)"
   ]
  },
  {
   "cell_type": "code",
   "execution_count": 12,
   "id": "b292b43c-773f-4563-9bca-c0839ad5bb9f",
   "metadata": {},
   "outputs": [],
   "source": [
    "%reset -f"
   ]
  }
 ],
 "metadata": {
  "kernelspec": {
   "display_name": "Python 3 (ipykernel)",
   "language": "python",
   "name": "python3"
  },
  "language_info": {
   "codemirror_mode": {
    "name": "ipython",
    "version": 3
   },
   "file_extension": ".py",
   "mimetype": "text/x-python",
   "name": "python",
   "nbconvert_exporter": "python",
   "pygments_lexer": "ipython3",
   "version": "3.9.13"
  }
 },
 "nbformat": 4,
 "nbformat_minor": 5
}
