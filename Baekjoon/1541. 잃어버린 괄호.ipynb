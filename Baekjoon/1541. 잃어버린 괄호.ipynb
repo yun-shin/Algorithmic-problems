{
 "cells": [
  {
   "cell_type": "code",
   "execution_count": 1,
   "metadata": {},
   "outputs": [
    {
     "name": "stdout",
     "output_type": "stream",
     "text": [
      "9 9\n",
      "9 9\n",
      "[9, 9]\n",
      "0\n"
     ]
    }
   ],
   "source": [
    "formula = list(map(str, input()))\n",
    "tmp = []\n",
    "formula.append('+')\n",
    "\n",
    "j = 0\n",
    "v = 0\n",
    "plus = 0\n",
    "ops = [0]\n",
    "for i in range(len(formula)) :\n",
    "    if formula[i] == '+' or formula[i] == '-':             # 연산자 발견!\n",
    "        str = int(\"\".join([k for k in formula[j:i]]))      # ops 전까지 문자열을 숫자로 변환\n",
    "\n",
    "        ops.append(formula[i])                             # 현재 연산자를 저장\n",
    "        \n",
    "        if ops[v] == '+' :                                 # 이전 연산자를 대조\n",
    "            plus = plus + str                              # 무지성 더하기\n",
    "            v += 1                                         # 업데이트\n",
    "        elif ops[v] == '-' :    \n",
    "            tmp.append(plus)                               # + 연산을 먼저 해야 최솟값 나오기 때문에 연산 미루고 저장\n",
    "            plus = 0\n",
    "            plus = plus + str\n",
    "            v += 1\n",
    "        else :\n",
    "            plus = str                                     # 처음 숫자는 그냥 저장\n",
    "            v += 1\n",
    "        \n",
    "        j = i + 1\n",
    "tmp.append(plus)                                           # 마지막 연산 결과 저장\n",
    "\n",
    "result = tmp[0] - sum([i for i in tmp[1:]])                # 처음 연산 결과를 제외한 나머지를 합산 후 - 연산\n",
    "print(result)"
   ]
  }
 ],
 "metadata": {
  "interpreter": {
   "hash": "fb4569285eef3a3450cb62085a5b1e0da4bce0af555edc33dcf29baf3acc1368"
  },
  "kernelspec": {
   "display_name": "Python 3.10.4 64-bit",
   "language": "python",
   "name": "python3"
  },
  "language_info": {
   "codemirror_mode": {
    "name": "ipython",
    "version": 3
   },
   "file_extension": ".py",
   "mimetype": "text/x-python",
   "name": "python",
   "nbconvert_exporter": "python",
   "pygments_lexer": "ipython3",
   "version": "3.10.4"
  },
  "orig_nbformat": 4
 },
 "nbformat": 4,
 "nbformat_minor": 2
}
