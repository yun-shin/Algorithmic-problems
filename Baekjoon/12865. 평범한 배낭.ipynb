{
 "cells": [
  {
   "cell_type": "code",
   "execution_count": 24,
   "id": "d9f873e3-890c-4a7a-903a-b25b6195c29f",
   "metadata": {},
   "outputs": [
    {
     "name": "stdout",
     "output_type": "stream",
     "text": [
      "[13, 14]\n",
      "14\n"
     ]
    }
   ],
   "source": [
    "import sys\n",
    "\n",
    "sys.stdin = open('12865. 평범한 배낭.txt', 'rt')\n",
    "\n",
    "cnt = 0\n",
    "weight = 0\n",
    "value = 0\n",
    "tmp = []\n",
    "N, K = map(int, sys.stdin.readline().split())\n",
    "\n",
    "for i in range(N) :    \n",
    "    W, V = map(int, sys.stdin.readline().split())\n",
    "    \n",
    "    if K < W :\n",
    "        continue\n",
    "    elif weight + W > K :\n",
    "        tmp.append(value)\n",
    "        weight = 0 + W\n",
    "        value = 0 + V\n",
    "    else :\n",
    "        weight += W\n",
    "        value += V\n",
    "#V = list(map(int, sys.stdin.readlin()))[1]\n",
    "print(tmp)\n",
    "print(max(tmp))"
   ]
  },
  {
   "cell_type": "code",
   "execution_count": null,
   "id": "5b620b90-f04d-461d-ad07-657ee60d1828",
   "metadata": {},
   "outputs": [],
   "source": [
    "# 백준\n",
    "\n",
    "cnt = 0\n",
    "weight = 0\n",
    "value = 0\n",
    "tmp = []\n",
    "N, K = map(int, input().split())\n",
    "\n",
    "for i in range(N) :    \n",
    "    W, V = map(int, input().split())\n",
    "    \n",
    "    if K < W :\n",
    "        continue\n",
    "    elif weight + W > K :\n",
    "        tmp.append(value)\n",
    "        weight = 0 + W\n",
    "        value = 0 + V\n",
    "    else :\n",
    "        weight += W\n",
    "        value += V\n",
    "        \n",
    "print(max(tmp))"
   ]
  }
 ],
 "metadata": {
  "kernelspec": {
   "display_name": "Python 3 (ipykernel)",
   "language": "python",
   "name": "python3"
  },
  "language_info": {
   "codemirror_mode": {
    "name": "ipython",
    "version": 3
   },
   "file_extension": ".py",
   "mimetype": "text/x-python",
   "name": "python",
   "nbconvert_exporter": "python",
   "pygments_lexer": "ipython3",
   "version": "3.9.7"
  }
 },
 "nbformat": 4,
 "nbformat_minor": 5
}
