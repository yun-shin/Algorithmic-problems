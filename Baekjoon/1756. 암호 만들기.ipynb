{
 "cells": [
  {
   "cell_type": "code",
   "execution_count": null,
   "id": "2425a4d6-5be1-457f-9bf5-d01666b93012",
   "metadata": {},
   "outputs": [],
   "source": [
    "def permutation(l) :\n",
    "    \n",
    "    for i in range(l) :\n",
    "        \n",
    "    "
   ]
  },
  {
   "cell_type": "code",
   "execution_count": 18,
   "id": "ad9ef12d-9913-432b-8f85-7cd1ac3bf8be",
   "metadata": {},
   "outputs": [
    {
     "name": "stdout",
     "output_type": "stream",
     "text": [
      "['a', 'c', 'i', 's', 't', 'w']\n"
     ]
    }
   ],
   "source": [
    "import sys\n",
    "import itertools\n",
    "\n",
    "sys.stdin = open('1756. 암호 만들기 input.txt', 'rt')\n",
    "\n",
    "l, c = map(int, sys.stdin.readline().split())\n",
    "letter = list(map(str, sys.stdin.readline().split()))\n",
    "letter.sort()\n",
    "\n",
    "print(letter)"
   ]
  }
 ],
 "metadata": {
  "kernelspec": {
   "display_name": "Python 3 (ipykernel)",
   "language": "python",
   "name": "python3"
  },
  "language_info": {
   "codemirror_mode": {
    "name": "ipython",
    "version": 3
   },
   "file_extension": ".py",
   "mimetype": "text/x-python",
   "name": "python",
   "nbconvert_exporter": "python",
   "pygments_lexer": "ipython3",
   "version": "3.9.13"
  }
 },
 "nbformat": 4,
 "nbformat_minor": 5
}
