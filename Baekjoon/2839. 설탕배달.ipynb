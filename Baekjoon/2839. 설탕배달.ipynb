{
 "cells": [
  {
   "cell_type": "code",
   "execution_count": 20,
   "metadata": {},
   "outputs": [
    {
     "name": "stdout",
     "output_type": "stream",
     "text": [
      "2.0\n",
      "3\n",
      "0 11\n",
      "[1, 2] 3\n"
     ]
    }
   ],
   "source": [
    "kg = int(input())\n",
    "tmp = [kg, 0]\n",
    "\n",
    "suger_bag = [5, 3]\n",
    "bag_cnt = [0 for i in range(2)]\n",
    "\n",
    "for i in range(1000) :                                  # 설탕 kg 최대 5000kg이라 그냥 설정함\n",
    "    if kg <= 12 and kg % suger_bag[1] == 0 :            # 3의 배수이면서 12이하는 무조건 3의 배수의 봉투로 담는게 이득\n",
    "        bag_cnt[1] += kg // suger_bag[1]\n",
    "        kg = kg - (bag_cnt[1] * suger_bag[1])\n",
    "\n",
    "    elif kg >= suger_bag[0] :                           # -5kg 씩 시도하면서 위의 조건이 맞는지 확인\n",
    "        bag_cnt[0] += 1\n",
    "        kg -= suger_bag[0]\n",
    "    \n",
    "    if kg <= 0 :                                        # 다 옮겼으면 끝\n",
    "        break\n",
    "\n",
    "if kg > 0 :\n",
    "    print(\"-1\")\n",
    "else :\n",
    "    print(sum(bag_cnt))\n"
   ]
  }
 ],
 "metadata": {
  "interpreter": {
   "hash": "fb4569285eef3a3450cb62085a5b1e0da4bce0af555edc33dcf29baf3acc1368"
  },
  "kernelspec": {
   "display_name": "Python 3.10.4 64-bit",
   "language": "python",
   "name": "python3"
  },
  "language_info": {
   "codemirror_mode": {
    "name": "ipython",
    "version": 3
   },
   "file_extension": ".py",
   "mimetype": "text/x-python",
   "name": "python",
   "nbconvert_exporter": "python",
   "pygments_lexer": "ipython3",
   "version": "3.10.4"
  },
  "orig_nbformat": 4
 },
 "nbformat": 4,
 "nbformat_minor": 2
}
