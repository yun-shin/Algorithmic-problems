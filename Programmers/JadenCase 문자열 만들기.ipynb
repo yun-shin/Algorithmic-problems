{
 "cells": [
  {
   "cell_type": "code",
   "execution_count": 30,
   "metadata": {},
   "outputs": [
    {
     "name": "stdout",
     "output_type": "stream",
     "text": [
      "['3people', 'unFollOwed', '', '', '', '', '', '', '', '', '', '', '', '', '', '', '', '', '', '', '', '', 'me']\n"
     ]
    },
    {
     "data": {
      "text/plain": [
       "'3people Unfollowed                     Me'"
      ]
     },
     "execution_count": 30,
     "metadata": {},
     "output_type": "execute_result"
    }
   ],
   "source": [
    "def solution(s):\n",
    "    st = s.split(' ')\n",
    "    answer = ''\n",
    "    \n",
    "    for i in range(len(st)) :\n",
    "        tmp = st[i].lower()\n",
    "        \n",
    "        if len(tmp) > 0 :\n",
    "            tmp = list(tmp)\n",
    "            tmp[0] = tmp[0].upper()  \n",
    "        \n",
    "        answer += ''.join(tmp) + ' '\n",
    "\n",
    "    answer = answer[:len(answer)-1]\n",
    "    return answer"
   ]
  }
 ],
 "metadata": {
  "kernelspec": {
   "display_name": "Python 3.10.4 64-bit",
   "language": "python",
   "name": "python3"
  },
  "language_info": {
   "codemirror_mode": {
    "name": "ipython",
    "version": 3
   },
   "file_extension": ".py",
   "mimetype": "text/x-python",
   "name": "python",
   "nbconvert_exporter": "python",
   "pygments_lexer": "ipython3",
   "version": "3.10.4"
  },
  "orig_nbformat": 4,
  "vscode": {
   "interpreter": {
    "hash": "fb4569285eef3a3450cb62085a5b1e0da4bce0af555edc33dcf29baf3acc1368"
   }
  }
 },
 "nbformat": 4,
 "nbformat_minor": 2
}
