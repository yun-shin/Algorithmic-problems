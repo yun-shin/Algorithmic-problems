{
 "cells": [
  {
   "cell_type": "code",
   "execution_count": 14,
   "metadata": {},
   "outputs": [
    {
     "data": {
      "text/plain": [
       "[3, 8]"
      ]
     },
     "execution_count": 14,
     "metadata": {},
     "output_type": "execute_result"
    }
   ],
   "source": [
    "s = '110010101001'\n",
    "\n",
    "cnt = 0\n",
    "zero = 0\n",
    "    \n",
    "def solution(s):  \n",
    "    num = [int(i) for i in str(s)]\n",
    "    answer = []\n",
    "    \n",
    "    binary(num)\n",
    "    answer.append(cnt+1)\n",
    "    answer.append(zero)\n",
    "          \n",
    "    return answer\n",
    "\n",
    "def binary(num) :\n",
    "    global cnt, zero\n",
    "    \n",
    "    l = len(num)             # int\n",
    "    one = sum(num)           # int\n",
    "    zero += (l - one)        # int\n",
    "    b = bin(one)             # str\n",
    "    tmp = [int(j) for j in str(b[2:])]  # int\n",
    "    \n",
    "    if int(b, 2) > 1 :\n",
    "        cnt += 1\n",
    "        binary(tmp)\n",
    "\n",
    "solution(s)"
   ]
  }
 ],
 "metadata": {
  "kernelspec": {
   "display_name": "Python 3.10.4 64-bit",
   "language": "python",
   "name": "python3"
  },
  "language_info": {
   "codemirror_mode": {
    "name": "ipython",
    "version": 3
   },
   "file_extension": ".py",
   "mimetype": "text/x-python",
   "name": "python",
   "nbconvert_exporter": "python",
   "pygments_lexer": "ipython3",
   "version": "3.10.4"
  },
  "orig_nbformat": 4,
  "vscode": {
   "interpreter": {
    "hash": "fb4569285eef3a3450cb62085a5b1e0da4bce0af555edc33dcf29baf3acc1368"
   }
  }
 },
 "nbformat": 4,
 "nbformat_minor": 2
}
