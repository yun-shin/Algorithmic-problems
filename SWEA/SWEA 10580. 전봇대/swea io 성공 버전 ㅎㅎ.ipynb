{
 "cells": [
  {
   "cell_type": "code",
   "execution_count": 1,
   "id": "be370bbf",
   "metadata": {},
   "outputs": [
    {
     "name": "stdout",
     "output_type": "stream",
     "text": [
      "#1 2\n",
      "#2 0\n"
     ]
    }
   ],
   "source": [
    "import sys\n",
    "\n",
    "sys.stdin = open('input.txt', 'rt')\n",
    "\n",
    "T = int(sys.stdin.readline())\n",
    "\n",
    "for test_case in range(1, T + 1) :\n",
    "    lineNum = int(sys.stdin.readline())\n",
    "    pole = [tuple(map(int, sys.stdin.readline().split())) for _ in range(lineNum)]\n",
    "    cnt = 0\n",
    "    \n",
    "    for i in range(lineNum) :\n",
    "        for j in range(lineNum) :\n",
    "            if i == j: continue                        # 자기 자신 탐색 금지\n",
    "               \n",
    "            if pole[i][0] > pole[j][0] and pole[i][1] < pole[j][1] :    # 왼쪽에서 아래로 내려오는 사선의 경우\n",
    "                cnt += 1\n",
    "            elif pole[i][0] < pole[j][0] and pole[i][1] > pole[j][1] : # 왼쪽으로 위로 올라가는 사선의 경우\n",
    "                cnt += 1\n",
    "    \n",
    "    print(\"#{} {}\".format(test_case, cnt // 2))        # 2개의 경우를 모두 탐색해서 정수형으로 나눈 몫"
   ]
  },
  {
   "cell_type": "code",
   "execution_count": 23,
   "id": "a1ba444a",
   "metadata": {},
   "outputs": [
    {
     "name": "stdout",
     "output_type": "stream",
     "text": [
      "2\n",
      "\n",
      "3\n",
      "\n",
      "1 10\n",
      "\n",
      "5 5\n",
      "\n",
      "7 7\n",
      "\n"
     ]
    }
   ],
   "source": [
    "import sys\n",
    "\n",
    "sys.stdin = open('input.txt', 'rt')\n",
    "\n",
    "for i in range(5):\n",
    "    print(sys.stdin.readline())"
   ]
  }
 ],
 "metadata": {
  "kernelspec": {
   "display_name": "Python 3 (ipykernel)",
   "language": "python",
   "name": "python3"
  },
  "language_info": {
   "codemirror_mode": {
    "name": "ipython",
    "version": 3
   },
   "file_extension": ".py",
   "mimetype": "text/x-python",
   "name": "python",
   "nbconvert_exporter": "python",
   "pygments_lexer": "ipython3",
   "version": "3.9.7"
  }
 },
 "nbformat": 4,
 "nbformat_minor": 5
}
