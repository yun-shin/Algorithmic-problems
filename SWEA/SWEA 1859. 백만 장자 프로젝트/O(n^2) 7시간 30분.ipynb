{
 "cells": [
  {
   "cell_type": "code",
   "execution_count": 1,
   "id": "995f0f22",
   "metadata": {
    "scrolled": true
   },
   "outputs": [
    {
     "ename": "KeyboardInterrupt",
     "evalue": "",
     "output_type": "error",
     "traceback": [
      "\u001b[0;31m---------------------------------------------------------------------------\u001b[0m",
      "\u001b[0;31mKeyboardInterrupt\u001b[0m                         Traceback (most recent call last)",
      "Input \u001b[0;32mIn [1]\u001b[0m, in \u001b[0;36m<cell line: 32>\u001b[0;34m()\u001b[0m\n\u001b[1;32m     36\u001b[0m         \u001b[38;5;28;01melse\u001b[39;00m :       \n\u001b[1;32m     37\u001b[0m             \u001b[38;5;28;01mfor\u001b[39;00m index \u001b[38;5;129;01min\u001b[39;00m \u001b[38;5;28mrange\u001b[39m(\u001b[38;5;241m0\u001b[39m, np\u001b[38;5;241m.\u001b[39margmax(price[case])) :\n\u001b[0;32m---> 38\u001b[0m                 profit[case] \u001b[38;5;241m+\u001b[39m\u001b[38;5;241m=\u001b[39m \u001b[38;5;28;43mmax\u001b[39;49m\u001b[43m(\u001b[49m\u001b[43mprice\u001b[49m\u001b[43m[\u001b[49m\u001b[43mcase\u001b[49m\u001b[43m]\u001b[49m\u001b[43m)\u001b[49m \u001b[38;5;241m-\u001b[39m price[case][index]\n\u001b[1;32m     40\u001b[0m         price[case] \u001b[38;5;241m=\u001b[39m price[case][np\u001b[38;5;241m.\u001b[39margmax(price[case]) \u001b[38;5;241m+\u001b[39m \u001b[38;5;241m1\u001b[39m:]\n\u001b[1;32m     42\u001b[0m \u001b[38;5;28mprint\u001b[39m(profit)\n",
      "\u001b[0;31mKeyboardInterrupt\u001b[0m: "
     ]
    }
   ],
   "source": [
    "import time\n",
    "import numpy as np\n",
    "\n",
    "s = time.time()\n",
    "\n",
    "f = open(\"input_f.txt\", 'r', encoding=\"UTF-8\")\n",
    "lines = f.readlines()\n",
    "i = 0\n",
    "test_case = 0\n",
    "date = []\n",
    "price = []\n",
    "\n",
    "for line in lines:\n",
    "    lis = line.split(\" \")\n",
    "    \n",
    "    if i == 0 :\n",
    "        test_case = [int (j) for j in [k.strip() for k in lis]][0]\n",
    "    elif i % 2 == 1 :\n",
    "        date.append([int (j) for j in [k.strip() for k in lis]])\n",
    "    else :\n",
    "        price.append([int (j) for j in [k.strip() for k in lis]])\n",
    "    \n",
    "    i += 1\n",
    "    \n",
    "for te in range(0, test_case) :\n",
    "    date += date[te]\n",
    "    \n",
    "date = date[test_case:]\n",
    "profit = np.zeros(shape=(test_case,), dtype=np.int64)\n",
    "#-------------------------------------------------------- input\n",
    "\n",
    "for case in range(0, test_case) :\n",
    "    for day in range(0, date[case]) :\n",
    "        if len(price[case]) == 0 :\n",
    "            break\n",
    "        else :       \n",
    "            for index in range(0, np.argmax(price[case])) :\n",
    "                profit[case] += max(price[case]) - price[case][index]\n",
    "\n",
    "        price[case] = price[case][np.argmax(price[case]) + 1:]\n",
    "    \n",
    "print(profit)\n",
    "\n",
    "e = time.time()\n",
    "print(\"take time = \", e-s)    #ms단위로 측정"
   ]
  }
 ],
 "metadata": {
  "kernelspec": {
   "display_name": "Python 3 (ipykernel)",
   "language": "python",
   "name": "python3"
  },
  "language_info": {
   "codemirror_mode": {
    "name": "ipython",
    "version": 3
   },
   "file_extension": ".py",
   "mimetype": "text/x-python",
   "name": "python",
   "nbconvert_exporter": "python",
   "pygments_lexer": "ipython3",
   "version": "3.9.10"
  }
 },
 "nbformat": 4,
 "nbformat_minor": 5
}
