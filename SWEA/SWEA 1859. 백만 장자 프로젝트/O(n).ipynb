{
 "cells": [
  {
   "cell_type": "code",
   "execution_count": 6,
   "id": "d8e0a897",
   "metadata": {},
   "outputs": [
    {
     "name": "stdout",
     "output_type": "stream",
     "text": [
      "The memory_profiler extension is already loaded. To reload it, use:\n",
      "  %reload_ext memory_profiler\n"
     ]
    }
   ],
   "source": [
    "%load_ext memory_profiler"
   ]
  },
  {
   "cell_type": "code",
   "execution_count": 13,
   "id": "d35199f7",
   "metadata": {},
   "outputs": [
    {
     "name": "stdout",
     "output_type": "stream",
     "text": [
      "[      4053       6385      26725     211514    4848198   49761546\n",
      "  500155606 4995241394 4999367498 4995633799]\n",
      "take time =  3.109158515930176\n",
      "peak memory: 310.03 MiB, increment: 0.55 MiB\n"
     ]
    }
   ],
   "source": [
    "import time\n",
    "import numpy as np\n",
    "\n",
    "s = time.time()\n",
    "\n",
    "#f = open(\"input_f.txt\", 'r', encoding=\"UTF-8\")\n",
    "f = open(\"input.txt\", 'r', encoding=\"UTF-8\")\n",
    "lines = f.readlines()\n",
    "i = 0\n",
    "test_case = 0\n",
    "date = []\n",
    "price = []\n",
    "\n",
    "for line in lines:\n",
    "    lis = line.split(\" \")\n",
    "    \n",
    "    if i == 0 :\n",
    "        test_case = [int (j) for j in [k.strip() for k in lis]][0]\n",
    "    elif i % 2 == 1 :\n",
    "        date.append([int (j) for j in [k.strip() for k in lis]])\n",
    "    else :\n",
    "        price.append([int (j) for j in [k.strip() for k in lis]])\n",
    "    \n",
    "    i += 1\n",
    "    \n",
    "for te in range(0, test_case) :\n",
    "    date += date[te]\n",
    "    \n",
    "date = date[test_case:]\n",
    "profit = np.zeros(shape=(test_case,), dtype=np.int64)\n",
    "#-------------------------------------------------------- input\n",
    "\n",
    "for case in range(0, test_case) :\n",
    "    max = price[case][date[case] - 1]\n",
    "    \n",
    "    for day in range(0, date[case] - 1) :\n",
    "        if max < price[case][date[case] - day - 2]:\n",
    "            max = price[case][date[case] - day - 2]\n",
    "        else :\n",
    "            profit[case] += max - price[case][date[case] - day - 2]\n",
    "            \n",
    "print(profit)\n",
    "\n",
    "e = time.time()\n",
    "print(\"take time = \", e-s)    #ms단위로 측정\n",
    "%memit"
   ]
  },
  {
   "cell_type": "code",
   "execution_count": 22,
   "id": "5de8226a",
   "metadata": {},
   "outputs": [
    {
     "name": "stdout",
     "output_type": "stream",
     "text": [
      "9\n",
      "8\n",
      "7\n",
      "6\n",
      "5\n",
      "4\n",
      "3\n",
      "2\n",
      "1\n",
      "0\n"
     ]
    }
   ],
   "source": [
    "# 프로그래머스 pass\n",
    "\n",
    "T = int(input())\n",
    "for t in range(1,T+1):\n",
    "    date = int(input())\n",
    "    price = list(map(int,input().split()))\n",
    "    max = price[-1]\n",
    "    profit = 0\n",
    "    \n",
    "    for i in range(date-1,-1,-1) :\n",
    "        if max > price[i] :\n",
    "            profit += max - price[i]\n",
    "        else :\n",
    "            max = price[i]\n",
    "\n",
    "    print(\"#{} {}\".format(t, profit))"
   ]
  }
 ],
 "metadata": {
  "kernelspec": {
   "display_name": "Python 3 (ipykernel)",
   "language": "python",
   "name": "python3"
  },
  "language_info": {
   "codemirror_mode": {
    "name": "ipython",
    "version": 3
   },
   "file_extension": ".py",
   "mimetype": "text/x-python",
   "name": "python",
   "nbconvert_exporter": "python",
   "pygments_lexer": "ipython3",
   "version": "3.9.10"
  }
 },
 "nbformat": 4,
 "nbformat_minor": 5
}
